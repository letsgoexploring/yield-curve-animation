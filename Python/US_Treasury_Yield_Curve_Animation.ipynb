{
 "cells": [
  {
   "cell_type": "markdown",
   "metadata": {},
   "source": [
    "# US Treasury Yield Curve Animation\n",
    "\n",
    "The notebook uses daily US Treasury yield data from FRED (https://fred.stlouisfed.org/) to construct an animated visualization of the US Treasury yield curve from January 1965 through the present. Data are downloaded using the `fredpy` module (https://github.com/letsgoexploring/fredpy-package).\n",
    "\n",
    "## Preliminaries"
   ]
  },
  {
   "cell_type": "code",
   "execution_count": null,
   "metadata": {},
   "outputs": [],
   "source": [
    "import matplotlib\n",
    "matplotlib.use(\"Agg\")\n",
    "import fredpy as fp\n",
    "import pandas as pd\n",
    "import matplotlib.pyplot as plt\n",
    "plt.style.use('classic')\n",
    "import matplotlib.animation as animation\n",
    "import os\n",
    "import time"
   ]
  },
  {
   "cell_type": "code",
   "execution_count": null,
   "metadata": {},
   "outputs": [],
   "source": [
    "# Approximately when the program started\n",
    "start_time = time.time()"
   ]
  },
  {
   "cell_type": "code",
   "execution_count": null,
   "metadata": {},
   "outputs": [],
   "source": [
    "# start and end dates\n",
    "start_date = '1965-01-01'\n",
    "end_date = '2100-01-01'\n",
    "file_name = '../video/US_Treasury_Yield_Curve_Animation'"
   ]
  },
  {
   "cell_type": "markdown",
   "metadata": {},
   "source": [
    "## Download Data and Merge into `DataFrame`"
   ]
  },
  {
   "cell_type": "code",
   "execution_count": null,
   "metadata": {},
   "outputs": [],
   "source": [
    "# Download data into Fred objects\n",
    "y1m= fp.series('DTB4WK')\n",
    "y3m= fp.series('DTB3')\n",
    "y6m= fp.series('DTB6')\n",
    "y1 = fp.series('DGS1')\n",
    "y5 = fp.series('DGS5')\n",
    "y10= fp.series('DGS10')\n",
    "y20= fp.series('DGS20')\n",
    "y30= fp.series('DGS30')\n",
    "\n",
    "# Give the series names\n",
    "y1m.data.name = '1 mo'\n",
    "y3m.data.name = '3 mo'\n",
    "y6m.data.name = '6 mo'\n",
    "y1.data.name = '1 yr'\n",
    "y5.data.name = '5 yr'\n",
    "y10.data.name = '10 yr'\n",
    "y20.data.name = '20 yr'\n",
    "y30.data.name = '30 yr'"
   ]
  },
  {
   "cell_type": "code",
   "execution_count": null,
   "metadata": {},
   "outputs": [],
   "source": [
    "yields = pd.concat([y1m.data,y3m.data,y6m.data,y1.data,y5.data,y10.data,y20.data,y30.data],axis=1)\n",
    "yields = yields.loc[start_date:end_date]\n",
    "yields = yields.dropna(thresh=1)\n",
    "N = len(yields.index)\n",
    "print('Date range: '+yields.index[0].strftime('%b %d, %Y')+' to '+yields.index[-1].strftime('%b %d, %Y'))"
   ]
  },
  {
   "cell_type": "markdown",
   "metadata": {},
   "source": [
    "## Construct Figure"
   ]
  },
  {
   "cell_type": "code",
   "execution_count": null,
   "metadata": {},
   "outputs": [],
   "source": [
    "# Initialize figure\n",
    "fig = plt.figure(figsize=(16,9))\n",
    "ax = fig.add_subplot(1, 1, 1)\n",
    "line, = ax.plot([], [], lw=8)\n",
    "ax.grid()\n",
    "\n",
    "ax.set_xlim(0,7)\n",
    "ax.set_ylim(0,18)\n",
    "\n",
    "ax.set_xticks(range(8))\n",
    "ax.set_yticks([2,4,6,8,10,12,14,16,18])\n",
    "\n",
    "xlabels = ['1m','3m','6m','1y','5y','10y','20y','30y']\n",
    "ylabels = [2,4,6,8,10,12,14,16,18]\n",
    "\n",
    "ax.set_xticklabels(xlabels,fontsize=20)\n",
    "ax.set_yticklabels(ylabels,fontsize=20)\n",
    "\n",
    "figure_title = 'U.S. Treasury Bond Yield Curve'\n",
    "figure_xlabel = 'Time to maturity'\n",
    "figure_ylabel = 'Percent'\n",
    "\n",
    "plt.text(0.5, 1.03, figure_title,horizontalalignment='center',fontsize=30,transform = ax.transAxes)\n",
    "plt.text(0.5, -.1, figure_xlabel,horizontalalignment='center',fontsize=25,transform = ax.transAxes)\n",
    "plt.text(-0.05, .5, figure_ylabel,horizontalalignment='center',fontsize=25,rotation='vertical',transform = ax.transAxes)\n",
    "\n",
    "ax.text(5.75,.25, 'Created by Brian C Jenkins',fontsize=11, color='black',alpha=0.5)#,\n",
    "dateText = ax.text(0.975, 16.625, '',fontsize=18,horizontalalignment='right')"
   ]
  },
  {
   "cell_type": "markdown",
   "metadata": {},
   "source": [
    "## Create Animation and Save\n",
    "\n",
    "Note ffmpeg (https://ffmpeg.org/) is required to save the animation as an mp4 or ogv file."
   ]
  },
  {
   "cell_type": "code",
   "execution_count": null,
   "metadata": {},
   "outputs": [],
   "source": [
    "# Initialization function\n",
    "def init_func():\n",
    "    line.set_data([], [])\n",
    "    return line,"
   ]
  },
  {
   "cell_type": "code",
   "execution_count": null,
   "metadata": {},
   "outputs": [],
   "source": [
    "# The animation function\n",
    "def animate(i):\n",
    "    global yields\n",
    "    x = [0,1,2,3,4,5,6,7]\n",
    "    y = yields.iloc[i]\n",
    "    line.set_data(x, y)\n",
    "    dateText.set_text(yields.index[i].strftime('%b %d, %Y'))\n",
    "    return line ,dateText"
   ]
  },
  {
   "cell_type": "code",
   "execution_count": null,
   "metadata": {},
   "outputs": [],
   "source": [
    "# Set up the writer\n",
    "Writer = animation.writers['ffmpeg']\n",
    "writer = Writer(fps=25, metadata=dict(artist='Brian C Jenkins'), bitrate=3000)\n",
    "\n",
    "# Make the animation\n",
    "anim = animation.FuncAnimation(fig, animate, init_func=init_func,frames=N, interval=20, blit=True)"
   ]
  },
  {
   "cell_type": "code",
   "execution_count": null,
   "metadata": {},
   "outputs": [],
   "source": [
    "# Create a directory called 'Video' in the parent directory if it doesn't exist\n",
    "try:\n",
    "    os.mkdir('../Video')\n",
    "except:\n",
    "    pass\n",
    "\n",
    "# Save the animation as .mp4\n",
    "anim.save(file_name+'.mp4', writer = writer)"
   ]
  },
  {
   "cell_type": "code",
   "execution_count": null,
   "metadata": {
    "scrolled": true
   },
   "outputs": [],
   "source": [
    "# Convert the .mp4 to .ogv\n",
    "# os.system('ffmpeg -i '+file_name+'.mp4 -acodec libvorbis -ac 2 -ab 128k -ar 44100 -b:v 1800k  '+file_name+'.ogv')"
   ]
  },
  {
   "cell_type": "markdown",
   "metadata": {},
   "source": [
    "## Print Time to Run"
   ]
  },
  {
   "cell_type": "code",
   "execution_count": null,
   "metadata": {},
   "outputs": [],
   "source": [
    "# Print runtime\n",
    "seconds = time.time() - start_time\n",
    "m, s = divmod(seconds, 60)\n",
    "h, m = divmod(m, 60)\n",
    "print(\"%dh %02dm %02ds\"% (h, m, s))"
   ]
  }
 ],
 "metadata": {
  "kernelspec": {
   "display_name": "Python 3 (ipykernel)",
   "language": "python",
   "name": "python3"
  },
  "language_info": {
   "codemirror_mode": {
    "name": "ipython",
    "version": 3
   },
   "file_extension": ".py",
   "mimetype": "text/x-python",
   "name": "python",
   "nbconvert_exporter": "python",
   "pygments_lexer": "ipython3",
   "version": "3.9.12"
  }
 },
 "nbformat": 4,
 "nbformat_minor": 1
}
